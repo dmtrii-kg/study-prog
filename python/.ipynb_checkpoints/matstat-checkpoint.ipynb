{
 "cells": [
  {
   "cell_type": "code",
   "execution_count": null,
   "metadata": {},
   "outputs": [],
   "source": [
    "import numpy as np\n",
    "import seaborn as sns\n",
    "import matplotlib.pyplot as plt\n",
    "\n",
    "size = 1000\n",
    "throws = 1000\n",
    "fig, ax = plt.subplots(1,2)\n",
    "\n",
    "success = []\n",
    "for i in range(throws):\n",
    "    values = np.random.randint(1, 7, size=size)\n",
    "    count = 0\n",
    "    for j in range(size):\n",
    "        if values[j] == 1:\n",
    "            count += 1\n",
    "    success.append(count)\n",
    "    \n",
    "for i in range(len(success)):\n",
    "    print(success[i], end=' ')\n",
    "print()\n",
    "\n",
    "mean = sum(success)/trials\n",
    "print(mean)\n",
    "\n",
    "distribution = np.random.poisson(mean, trials)\n",
    "\n",
    "sns.histplot(success, ax=ax[0],label=\"random\", color=\"red\")\n",
    "sns.histplot(distribution, ax=ax[1],label=\"poisson\", color=\"blue\")\n",
    "\n",
    "ax[0].legend()\n",
    "ax[1].legend()\n",
    "\n",
    "plt.show()"
   ]
  },
  {
   "cell_type": "code",
   "execution_count": null,
   "metadata": {},
   "outputs": [],
   "source": []
  },
  {
   "cell_type": "code",
   "execution_count": null,
   "metadata": {},
   "outputs": [],
   "source": []
  }
 ],
 "metadata": {
  "kernelspec": {
   "display_name": "Python 3",
   "language": "python",
   "name": "python3"
  },
  "language_info": {
   "codemirror_mode": {
    "name": "ipython",
    "version": 3
   },
   "file_extension": ".py",
   "mimetype": "text/x-python",
   "name": "python",
   "nbconvert_exporter": "python",
   "pygments_lexer": "ipython3",
   "version": "3.6.4"
  }
 },
 "nbformat": 4,
 "nbformat_minor": 2
}
