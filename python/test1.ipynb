{
 "cells": [
  {
   "cell_type": "code",
   "execution_count": 5,
   "metadata": {},
   "outputs": [
    {
     "name": "stdout",
     "output_type": "stream",
     "text": [
      "[[2. 1. 0. 0.]\n",
      " [0. 2. 1. 0.]\n",
      " [0. 0. 2. 1.]]\n",
      "[[2.]\n",
      " [1.]\n",
      " [0.]\n",
      " [0.]\n",
      " [0.]\n",
      " [2.]\n",
      " [1.]\n",
      " [0.]\n",
      " [0.]\n",
      " [0.]\n",
      " [2.]\n",
      " [1.]]\n"
     ]
    }
   ],
   "source": [
    "import numpy as np\n",
    "a = np.eye(3, 4, k=0)\n",
    "b = np.eye(3, 4, k=1)\n",
    "c = 2 * a + b\n",
    "print(c)\n",
    "c.shape\n",
    "c = c.reshape((12,1))\n",
    "print(c)"
   ]
  },
  {
   "cell_type": "code",
   "execution_count": 4,
   "metadata": {},
   "outputs": [
    {
     "name": "stdout",
     "output_type": "stream",
     "text": [
      "[682 750 723   0 194 708 510 389  95 380  77 892]\n",
      "[[682 750 723   0]\n",
      " [194 708 510 389]\n",
      " [ 95 380  77 892]]\n",
      "[[682 194  95]\n",
      " [750 708 380]\n",
      " [723 510  77]\n",
      " [  0 389 892]]\n"
     ]
    }
   ],
   "source": [
    "import numpy as np\n",
    "import random\n",
    "x = np.array(random.sample(range(1000),12))\n",
    "print(x)\n",
    "x = x.reshape((3,4))\n",
    "print(x)\n",
    "print(x.T)"
   ]
  },
  {
   "cell_type": "code",
   "execution_count": 11,
   "metadata": {},
   "outputs": [
    {
     "name": "stdout",
     "output_type": "stream",
     "text": [
      "[[-2.34210526]\n",
      " [ 0.19473684]]\n"
     ]
    }
   ],
   "source": [
    "import numpy as np\n",
    "x = np.array([[1,1,1], [60,50,75]])\n",
    "y = np.array([[10,7,12]])\n",
    "x = x.T\n",
    "y = y.T\n",
    "#print(y)\n",
    "b = ((np.linalg.inv(x.T.dot(x))).dot(x.T)).dot(y)\n",
    "print(b)"
   ]
  }
 ],
 "metadata": {
  "kernelspec": {
   "display_name": "Python 3",
   "language": "python",
   "name": "python3"
  },
  "language_info": {
   "codemirror_mode": {
    "name": "ipython",
    "version": 3
   },
   "file_extension": ".py",
   "mimetype": "text/x-python",
   "name": "python",
   "nbconvert_exporter": "python",
   "pygments_lexer": "ipython3",
   "version": "3.6.4"
  }
 },
 "nbformat": 4,
 "nbformat_minor": 2
}
